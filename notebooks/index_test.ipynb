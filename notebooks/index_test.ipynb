{
 "cells": [
  {
   "cell_type": "code",
   "execution_count": 1,
   "id": "72693e27-d45f-45f5-9c6e-7b1b6efa6f83",
   "metadata": {},
   "outputs": [],
   "source": [
    "import datetime\n",
    "import json\n",
    "import numpy as np\n",
    "import psycopg2\n",
    "import requests\n",
    "import time\n",
    "import uuid\n",
    "\n",
    "from typing import Any"
   ]
  },
  {
   "cell_type": "code",
   "execution_count": 2,
   "id": "4bd7e9a8-837f-4fbc-8329-4c60907788a8",
   "metadata": {
    "tags": []
   },
   "outputs": [],
   "source": [
    "PROJECT_ID = 10\n",
    "NUM_LOGS = 50000\n",
    "NUM_SEARCH_QUERIES = 20\n",
    "NUM_GET_LOGS_QUERIES = 20\n",
    "POSTGRES_CONFIG = {\n",
    "    \"user\": \"rpuser\",\n",
    "    \"password\": \"rppass\",\n",
    "    \"host\": \"localhost\",\n",
    "    \"port\": 5432,\n",
    "    \"database\": \"reportportal\",\n",
    "}"
   ]
  },
  {
   "cell_type": "code",
   "execution_count": 3,
   "id": "6e208fd5-77b8-4a60-8266-d43073a9fd08",
   "metadata": {},
   "outputs": [],
   "source": [
    "def generate_logs(num):\n",
    "    all_logs = []\n",
    "    log_messages = [\"this is a test log\", \"this is a different log\"]\n",
    "    for i in range(num):\n",
    "        all_logs.append(\n",
    "            {\n",
    "                \"uuid\": str(uuid.uuid4()),\n",
    "                \"log_time\": datetime.datetime.now().strftime(\"%Y-%m-%d %H:%M:%S\"),\n",
    "                \"log_message\": log_messages[np.random.randint(0, len(log_messages))],\n",
    "                \"item_id\": int(np.random.randint(1000, 1010)),\n",
    "                \"launch_id\": int(np.random.randint(100, 501)),\n",
    "                \"last_modified\": datetime.datetime.now().strftime(\"%Y-%m-%d %H:%M:%S\"),\n",
    "                \"log_level\": int(np.random.choice([20000, 30000, 40000, 50000])),\n",
    "                \"attachment_id\": int(np.random.randint(1000, 5001)),\n",
    "            }\n",
    "        )\n",
    "    return all_logs"
   ]
  },
  {
   "cell_type": "code",
   "execution_count": 4,
   "id": "5a961bd5-c579-4064-b8af-661b69583f2a",
   "metadata": {},
   "outputs": [],
   "source": [
    "def make_logs_post_request(endpoint: str, body: Any):\n",
    "    return requests.post(\n",
    "        f\"http://localhost:5010/{endpoint}\",\n",
    "        data=json.dumps(body),\n",
    "        headers={\"Content-type\": \"application/json\", \"Accept\": \"text/plain\"},\n",
    "    ).__dict__"
   ]
  },
  {
   "cell_type": "code",
   "execution_count": 5,
   "id": "c9798fab-8611-4c8a-b362-e4b2faf9f1e3",
   "metadata": {},
   "outputs": [],
   "source": [
    "def add_random_logs(num_logs: int, project_id: int, drop_existing: bool = True):\n",
    "    if drop_existing:\n",
    "        print(\"Dropping existing logs: \", end=\"\")\n",
    "        print(make_logs_post_request(\"delete_project\", project_id)[\"reason\"])\n",
    "    logs = generate_logs(num_logs)\n",
    "    print(\"Indexing random logs: \", end=\"\")\n",
    "    print(make_logs_post_request(\"index_logs\", {\"logs\": logs, \"project\": project_id})[\"reason\"])"
   ]
  },
  {
   "cell_type": "code",
   "execution_count": 6,
   "id": "021e844c-0eb3-4b58-8b16-3b8cdc71404c",
   "metadata": {
    "tags": []
   },
   "outputs": [],
   "source": [
    "def make_search_queries(num_queries: int, project_id: int):\n",
    "    queries = [\"log\", \"test\", \"different\"]\n",
    "    print(\"Making search queries: \", end=\"\")\n",
    "    for _ in range(num_queries):\n",
    "        search_response = make_logs_post_request(\n",
    "            \"search_logs\",\n",
    "            {\n",
    "                \"query\": queries[np.random.randint(0, len(queries))],\n",
    "                \"project\": project_id,\n",
    "            },\n",
    "        )\n",
    "        if search_response[\"status_code\"] != 200:\n",
    "            print(search_response[\"reason\"])\n",
    "            return\n",
    "    print(\"OK\")"
   ]
  },
  {
   "cell_type": "code",
   "execution_count": 7,
   "id": "eb7a59d1-e8fd-4d89-ac8f-aeae26e8e0b9",
   "metadata": {},
   "outputs": [],
   "source": [
    "def make_get_logs_by_test_item_queries(num_queries: int, project_id: int):\n",
    "    print(\"Making get logs by test item queries: \", end=\"\")\n",
    "    for _ in range(num_queries):\n",
    "        get_logs_response = make_logs_post_request(\n",
    "            \"get_logs_by_test_item\",\n",
    "            {\n",
    "                \"test_item\": np.random.randint(1000, 1010),\n",
    "                \"project\": project_id,\n",
    "            },\n",
    "        )\n",
    "        if get_logs_response[\"status_code\"] != 200:\n",
    "            print(get_logs_response[\"reason\"])\n",
    "            return\n",
    "    print(\"OK\")"
   ]
  },
  {
   "cell_type": "code",
   "execution_count": 8,
   "id": "789b90d2-957f-4eb4-b4f6-6644b7cf1dbc",
   "metadata": {},
   "outputs": [],
   "source": [
    "def drop_search_indices():\n",
    "    query = \"\"\"\n",
    "        DROP INDEX rp_log_ti_idx;\n",
    "        DROP INDEX rp_log_message_trgm_idx;\n",
    "    \"\"\"\n",
    "    connection = psycopg2.connect(**POSTGRES_CONFIG)\n",
    "    cursor = connection.cursor()\n",
    "    print(\"Dropping search indices: \", end=\"\")\n",
    "    try:\n",
    "        cursor.execute(query)\n",
    "        try:\n",
    "            print(cursor.fetchall())\n",
    "        except psycopg2.ProgrammingError:\n",
    "            print(\"OK\")\n",
    "    except psycopg2.ProgrammingError as err:\n",
    "        print(err)\n",
    "    connection.commit()\n",
    "    cursor.close()\n",
    "    connection.close()"
   ]
  },
  {
   "cell_type": "code",
   "execution_count": 9,
   "id": "9ccb172c-af88-4baa-9817-d1da158af8be",
   "metadata": {
    "tags": []
   },
   "outputs": [],
   "source": [
    "def test_querying_performance(\n",
    "    num_logs: int,\n",
    "    num_search_queries: int,\n",
    "    num_get_logs_queries: int,\n",
    "    drop_indices: bool,\n",
    "    project_id: int,\n",
    "):\n",
    "    print(f\"Testing querying performance for drop_indices = {drop_indices}\")\n",
    "    add_random_logs(num_logs=num_logs, project_id=project_id, drop_existing=True)\n",
    "    if drop_indices:\n",
    "        drop_search_indices()\n",
    "\n",
    "    print()\n",
    "    start = time.time()\n",
    "    make_search_queries(num_queries=num_search_queries, project_id=project_id)\n",
    "    print(f\"Time for search: {time.time() - start} s\")\n",
    "\n",
    "    print()\n",
    "    start = time.time()\n",
    "    make_get_logs_by_test_item_queries(\n",
    "        num_queries=num_get_logs_queries, project_id=project_id\n",
    "    )\n",
    "    print(f\"Time for get logs by test item: {time.time() - start} s\")"
   ]
  },
  {
   "cell_type": "code",
   "execution_count": 10,
   "id": "9a1c6e0f-e5ca-44df-b315-648b5817cd17",
   "metadata": {},
   "outputs": [
    {
     "name": "stdout",
     "output_type": "stream",
     "text": [
      "Testing querying performance for drop_indices = False\n",
      "Dropping existing logs: OK\n",
      "Indexing random logs: OK\n",
      "\n",
      "Making search queries: OK\n",
      "Time for search: 225.31177139282227 s\n",
      "\n",
      "Making get logs by test item queries: OK\n",
      "Time for get logs by test item: 47.098653078079224 s\n"
     ]
    }
   ],
   "source": [
    "test_querying_performance(\n",
    "    num_logs=NUM_LOGS,\n",
    "    num_search_queries=NUM_SEARCH_QUERIES,\n",
    "    num_get_logs_queries=NUM_GET_LOGS_QUERIES,\n",
    "    drop_indices=False,\n",
    "    project_id=PROJECT_ID\n",
    ")"
   ]
  },
  {
   "cell_type": "code",
   "execution_count": 11,
   "id": "ecba2f57-6edd-4c5a-8c54-c7f54960b80d",
   "metadata": {},
   "outputs": [
    {
     "name": "stdout",
     "output_type": "stream",
     "text": [
      "Testing querying performance for drop_indices = True\n",
      "Dropping existing logs: OK\n",
      "Indexing random logs: OK\n",
      "Dropping search indices: OK\n",
      "\n",
      "Making search queries: OK\n",
      "Time for search: 206.5304319858551 s\n",
      "\n",
      "Making get logs by test item queries: OK\n",
      "Time for get logs by test item: 47.27680420875549 s\n"
     ]
    }
   ],
   "source": [
    "test_querying_performance(\n",
    "    num_logs=NUM_LOGS,\n",
    "    num_search_queries=NUM_SEARCH_QUERIES,\n",
    "    num_get_logs_queries=NUM_GET_LOGS_QUERIES,\n",
    "    drop_indices=True,\n",
    "    project_id=PROJECT_ID\n",
    ")"
   ]
  },
  {
   "cell_type": "code",
   "execution_count": 12,
   "id": "24b8b911-7542-447a-80f5-4212d6d40ba8",
   "metadata": {},
   "outputs": [
    {
     "data": {
      "text/plain": [
       "{'_content': b'1\\n',\n",
       " '_content_consumed': True,\n",
       " '_next': None,\n",
       " 'status_code': 200,\n",
       " 'headers': {'Content-Type': 'application/json', 'Content-Length': '2', 'Access-Control-Allow-Origin': '*', 'Server': 'Werkzeug/1.0.1 Python/3.7.4', 'Date': 'Fri, 07 May 2021 12:04:16 GMT'},\n",
       " 'raw': <urllib3.response.HTTPResponse at 0x182c64f2b08>,\n",
       " 'url': 'http://localhost:5010/delete_project',\n",
       " 'encoding': None,\n",
       " 'history': [],\n",
       " 'reason': 'OK',\n",
       " 'cookies': <RequestsCookieJar[]>,\n",
       " 'elapsed': datetime.timedelta(seconds=2, microseconds=114601),\n",
       " 'request': <PreparedRequest [POST]>,\n",
       " 'connection': <requests.adapters.HTTPAdapter at 0x182c6503d88>}"
      ]
     },
     "execution_count": 12,
     "metadata": {},
     "output_type": "execute_result"
    }
   ],
   "source": [
    "make_logs_post_request(\"delete_project\", PROJECT_ID)"
   ]
  }
 ],
 "metadata": {
  "kernelspec": {
   "display_name": "Python 3",
   "language": "python",
   "name": "python3"
  },
  "language_info": {
   "codemirror_mode": {
    "name": "ipython",
    "version": 3
   },
   "file_extension": ".py",
   "mimetype": "text/x-python",
   "name": "python",
   "nbconvert_exporter": "python",
   "pygments_lexer": "ipython3",
   "version": "3.7.4"
  }
 },
 "nbformat": 4,
 "nbformat_minor": 5
}
